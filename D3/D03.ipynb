{
 "cells": [
  {
   "cell_type": "code",
   "execution_count": 2,
   "id": "02f28004-1793-4d94-879c-fd63cf832aa1",
   "metadata": {},
   "outputs": [],
   "source": [
    "const fs = require('fs')\n",
    "const {join} = require('path')\n",
    "\n",
    "const file = fs.readFileSync(join(__dirname, 'input.txt'), 'utf8')\n",
    "const inputs = file.split('\\n')\n",
    "//.slice(0, -1)\n",
    "//.map(n => Number(n))"
   ]
  },
  {
   "cell_type": "code",
   "execution_count": 2,
   "id": "3e5871ae-3e7a-4756-b58f-7ad60feed691",
   "metadata": {},
   "outputs": [
    {
     "name": "stdout",
     "output_type": "stream",
     "text": [
      "3903\n",
      "192\n",
      "749376\n"
     ]
    }
   ],
   "source": [
    "{const gamma = []\n",
    " const epsilon = []\n",
    "    for (let i = 0; i<inputs[0].length; i++) {\n",
    "        gamma.push(0)\n",
    "        epsilon.push(0)\n",
    "    }\n",
    "    for (let i = 0; i<inputs.length; i++) {\n",
    "        const binary = inputs[i].split(\"\")\n",
    "        for (let j = 0; j<binary.length; j++) {\n",
    "            if (binary[j] == '1') {\n",
    "                gamma[j] += 1\n",
    "                }\n",
    "            }\n",
    "        }\n",
    "    for (let k = 0; k<gamma.length; k++) {\n",
    "        if (gamma[k] > inputs.length / 2) {\n",
    "           gamma[k] = 1\n",
    "            epsilon[k] = 0\n",
    "       }\n",
    "        else {\n",
    "            gamma[k] = 0 \n",
    "           epsilon[k] = 1\n",
    "        }\n",
    "    }\n",
    " let gamma2 = parseInt(gamma.join(''), 2);\n",
    " let epsilon2 = parseInt(epsilon.join(''),2);\n",
    "console.log(gamma2);\n",
    "console.log(epsilon2);\n",
    "console.log(gamma2*epsilon2)}"
   ]
  },
  {
   "cell_type": "code",
   "execution_count": 3,
   "id": "64775b13-44eb-41fe-b04a-5e4a3a4c16fb",
   "metadata": {},
   "outputs": [
    {
     "name": "stdout",
     "output_type": "stream",
     "text": [
      "Rating found: [ '001001100101' ]\n"
     ]
    }
   ],
   "source": [
    "function rating_check(sign){\n",
    "\n",
    "{const master = inputs.map(x => x);\n",
    "let rating = master ;\n",
    "for (let i = 0; i<rating[0].length; i++) {\n",
    "     var counter = 0\n",
    "     var temp = []\n",
    "     for (let j=0; j<rating.length;j++) {\n",
    "         counter += Number(rating[j][i])\n",
    "     }\n",
    "          if (counter >= rating.length/2) {\n",
    "         counter = 1\n",
    "     }\n",
    "     else {\n",
    "         counter = 0\n",
    "     }        \n",
    "     for (let k=0; k<rating.length;k++) {\n",
    "         if ((sign==true && rating[k][i] == counter) || (sign==false && rating[k][i] != counter)) {\n",
    "           temp.push(rating[k]) \n",
    "         }\n",
    "     }\n",
    "     rating = temp\n",
    "     if (rating.length == 1) {\n",
    "         return console.log('Rating found:', rating)\n",
    "         }\n",
    " }\n",
    "}\n",
    "}\n",
    "rating_check(false)"
   ]
  },
  {
   "cell_type": "code",
   "execution_count": 59,
   "id": "ed8aeb88-41f6-4180-8ec7-692f325a268e",
   "metadata": {},
   "outputs": [
    {
     "data": {
      "text/plain": [
       "3871"
      ]
     },
     "execution_count": 59,
     "metadata": {},
     "output_type": "execute_result"
    }
   ],
   "source": [
    "parseInt(111100011111, 2)"
   ]
  },
  {
   "cell_type": "code",
   "execution_count": 66,
   "id": "3d00722a-b393-461c-997a-306edb5b26fc",
   "metadata": {},
   "outputs": [
    {
     "data": {
      "text/plain": [
       "613"
      ]
     },
     "execution_count": 66,
     "metadata": {},
     "output_type": "execute_result"
    }
   ],
   "source": [
    "parseInt(1001100101, 2)"
   ]
  },
  {
   "cell_type": "code",
   "execution_count": 60,
   "id": "0ddb138a-70d7-4e4c-a6fa-3593e838368d",
   "metadata": {},
   "outputs": [
    {
     "data": {
      "text/plain": [
       "2372923"
      ]
     },
     "execution_count": 60,
     "metadata": {},
     "output_type": "execute_result"
    }
   ],
   "source": [
    "613*3871"
   ]
  }
 ],
 "metadata": {
  "kernelspec": {
   "display_name": "JavaScript (Node.js)",
   "language": "javascript",
   "name": "javascript"
  },
  "language_info": {
   "file_extension": ".js",
   "mimetype": "application/javascript",
   "name": "javascript",
   "version": "16.13.1"
  }
 },
 "nbformat": 4,
 "nbformat_minor": 5
}
