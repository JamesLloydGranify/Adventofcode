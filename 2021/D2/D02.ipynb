{
 "cells": [
  {
   "cell_type": "code",
   "execution_count": 1,
   "id": "62cc9a6c-7dad-40e4-8140-6e011077d861",
   "metadata": {},
   "outputs": [],
   "source": [
    "const fs = require('fs')\n",
    "const {join} = require('path')\n",
    "\n",
    "const file = fs.readFileSync(join(__dirname, 'input.txt'), 'utf8')\n",
    "const inputs = file.split('\\n')\n",
    "//.slice(0, -1)\n",
    "//.map(n => Number(n))"
   ]
  },
  {
   "cell_type": "code",
   "execution_count": 5,
   "id": "ee0d1b91-ce5b-4a48-9f67-3c8fcddd0014",
   "metadata": {},
   "outputs": [],
   "source": [
    "const test = ['forward 5',\n",
    "'down 5',\n",
    "'forward 8',\n",
    "'up 3',\n",
    "'down 8',\n",
    "'forward 2']"
   ]
  },
  {
   "cell_type": "code",
   "execution_count": 2,
   "id": "c9050c23-05f8-49f0-8b83-b14542382504",
   "metadata": {},
   "outputs": [
    {
     "name": "stdout",
     "output_type": "stream",
     "text": [
      "953\n",
      "1931\n",
      "1840243\n"
     ]
    }
   ],
   "source": [
    "{\n",
    "let depth = 0\n",
    "let distance = 0\n",
    "\n",
    "for (let i = 0; i<inputs.length; i++) {\n",
    "   const [dir, str] = inputs[i].split(' ')\n",
    "   const spd = Number(str)\n",
    "   \n",
    "   switch(dir) {\n",
    "       case 'up': depth -= spd; break;\n",
    "       case 'down': depth += spd; break;\n",
    "       case 'forward': distance += spd; break;\n",
    "       default: console.log(`Unknown dir: ${dir} at: ${i}`);\n",
    "   }\n",
    "\n",
    "}\n",
    "console.log(depth)\n",
    "console.log(distance)\n",
    "console.log(depth*distance)\n",
    "}"
   ]
  },
  {
   "cell_type": "code",
   "execution_count": 10,
   "id": "c54d0f40-9b91-4a3f-951f-7d1833a2bb42",
   "metadata": {},
   "outputs": [
    {
     "name": "stdout",
     "output_type": "stream",
     "text": [
      "894762\n",
      "1931\n",
      "1727785422\n"
     ]
    }
   ],
   "source": [
    "{\n",
    "let depth = 0\n",
    "let distance = 0\n",
    "let aim = 0\n",
    "\n",
    "for (let i = 0; i<inputs.length; i++) {\n",
    "   const [dir, str] = inputs[i].split(' ')\n",
    "   const spd = Number(str)\n",
    "   \n",
    "   switch(dir) {\n",
    "       case 'up': aim -= spd; break;\n",
    "       case 'down': aim += spd; break;\n",
    "       case 'forward': distance += spd; depth += aim*spd; break;\n",
    "       default: console.log(`Unknown dir: ${dir} at: ${i}`);\n",
    "   }\n",
    "\n",
    "}\n",
    "console.log(depth)\n",
    "console.log(distance)\n",
    "console.log(depth*distance)\n",
    "}"
   ]
  },
  {
   "cell_type": "code",
   "execution_count": null,
   "id": "fec53a4b-5ac4-4831-a616-d3b0f52291ef",
   "metadata": {},
   "outputs": [],
   "source": []
  },
  {
   "cell_type": "code",
   "execution_count": null,
   "id": "24c1f9a5-58b2-4804-a9c7-94c9aab06934",
   "metadata": {},
   "outputs": [],
   "source": []
  },
  {
   "cell_type": "code",
   "execution_count": null,
   "id": "e6f854b7-0761-47a4-8d9e-b53cac3b8e1c",
   "metadata": {},
   "outputs": [],
   "source": []
  },
  {
   "cell_type": "code",
   "execution_count": null,
   "id": "fcbccb45-3a3f-4104-8007-cc681f2110cf",
   "metadata": {},
   "outputs": [],
   "source": []
  }
 ],
 "metadata": {
  "kernelspec": {
   "display_name": "JavaScript (Node.js)",
   "language": "javascript",
   "name": "javascript"
  },
  "language_info": {
   "file_extension": ".js",
   "mimetype": "application/javascript",
   "name": "javascript",
   "version": "16.13.1"
  }
 },
 "nbformat": 4,
 "nbformat_minor": 5
}
