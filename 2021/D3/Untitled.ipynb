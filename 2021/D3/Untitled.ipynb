{
 "cells": [
  {
   "cell_type": "code",
   "execution_count": null,
   "id": "9c6e6323-c8fc-4688-99f4-a1b93e9c0afa",
   "metadata": {},
   "outputs": [],
   "source": []
  },
  {
   "cell_type": "code",
   "execution_count": 1,
   "id": "0d1f740a-f63a-4b07-a4af-81c5cc0441ad",
   "metadata": {},
   "outputs": [],
   "source": [
    "const fs = require('fs')\n",
    "const {join} = require('path')\n",
    "\n",
    "const file = fs.readFileSync(join(__dirname, 'input.txt'), 'utf8')\n",
    "const inputs = file.split('\\n')"
   ]
  },
  {
   "cell_type": "code",
   "execution_count": 4,
   "id": "354d597f-8f3c-4721-8118-18d681ca22ab",
   "metadata": {},
   "outputs": [
    {
     "name": "stdout",
     "output_type": "stream",
     "text": [
      "[\n",
      "  '111010101100', '100001001100', '000111101100', '100100000000',\n",
      "  '001001001110', '100110101011', '001001100101', '010000010110',\n",
      "  '011011001001', '001001000101', '001000101011', '000111101111',\n",
      "  '011000000001', '111111010100', '101101010010', '100111100111',\n",
      "  '101000110100', '011101101101', '010101110010', '001011101010',\n",
      "  '010001001100', '011001001100', '000110011100', '011001011100',\n",
      "  '000101110110', '010011110111', '011101001001', '000001000111',\n",
      "  '111110010100', '010011000000', '101001000010', '011001010011',\n",
      "  '101011101010', '111000100111', '011110010110', '111111111010',\n",
      "  '100011100101', '011100110000', '010011010011', '110110110010',\n",
      "  '001110111011', '110100011111', '101011001110', '000001100101',\n",
      "  '101001010000', '110001111011', '011101011100', '001100100001',\n",
      "  '000100111111', '000110110111', '011100100010', '110101100111',\n",
      "  '100110011110', '110011110010', '010111110110', '011010100010',\n",
      "  '100100100010', '001000111011', '100101101110', '001001111101',\n",
      "  '111000001100', '100011000100', '101011010010', '011100011001',\n",
      "  '111100011001', '110000000011', '101110011010', '101000010011',\n",
      "  '111011100111', '101111111100', '101111111101', '010000101101',\n",
      "  '011111011011', '100011001100', '010011100010', '101100101011',\n",
      "  '010011111010', '111010010101', '000011101100', '110011110101',\n",
      "  '101000000101', '101101001110', '010111110101', '010001011001',\n",
      "  '100000000011', '111111010000', '001110010010', '011110111101',\n",
      "  '111010110001', '010001011010', '100101011100', '101100000100',\n",
      "  '000001000110', '010010101001', '110101100101', '010000001111',\n",
      "  '001010000100', '111011111100', '011111101000', '111100111101',\n",
      "  ... 900 more items\n",
      "]\n"
     ]
    },
    {
     "ename": "TypeError",
     "evalue": "Cannot read properties of undefined (reading 'length')",
     "execution_count": 4,
     "output_type": "error",
     "traceback": [
      "evalmachine.<anonymous>:6",
      " for (let i = 0; i<rating[0].length; i++) {",
      "                             ^",
      "",
      "TypeError: Cannot read properties of undefined (reading 'length')",
      "    at rating_check (evalmachine.<anonymous>:6:30)",
      "    at evalmachine.<anonymous>:32:1",
      "    at Script.runInThisContext (node:vm:129:12)",
      "    at Object.runInThisContext (node:vm:305:38)",
      "    at run ([eval]:1054:15)",
      "    at onRunRequest ([eval]:888:18)",
      "    at onMessage ([eval]:848:13)",
      "    at process.emit (node:events:390:28)",
      "    at emit (node:internal/child_process:917:12)",
      "    at processTicksAndRejections (node:internal/process/task_queues:84:21)"
     ]
    }
   ],
   "source": [
    "function rating_check(sign){\n",
    "\n",
    "{const master = inputs.map(x => x);\n",
    "let rating = master ;\n",
    " console.log(rating)\n",
    " for (let i = 0; i<rating[0].length; i++) {\n",
    "     var counter = 0\n",
    "     var temp = []\n",
    "     for (let j=0; j<rating.length;j++) {\n",
    "         counter += Number(rating[j][i])\n",
    "     }\n",
    "          if (counter >= rating.length/2) {\n",
    "         counter = 1\n",
    "     }\n",
    "     else {\n",
    "         counter = 0\n",
    "     }        \n",
    "     if (sign==true) {\n",
    "     for (let k=0; k<rating.length;k++) {\n",
    "         if ((sign==true && rating[k][i] == counter) || (sign==false && rating[k][i] != counter)) {\n",
    "           temp.push(rating[k]) \n",
    "         }\n",
    "     }\n",
    "     }\n",
    "     rating = temp\n",
    "     if (rating.length == 1) {\n",
    "         return console.log('Rating found:', rating)\n",
    "         }\n",
    " }\n",
    "}\n",
    "}\n",
    "rating_check(false)\n",
    "\n"
   ]
  }
 ],
 "metadata": {
  "kernelspec": {
   "display_name": "JavaScript (Node.js)",
   "language": "javascript",
   "name": "javascript"
  },
  "language_info": {
   "file_extension": ".js",
   "mimetype": "application/javascript",
   "name": "javascript",
   "version": "16.13.1"
  }
 },
 "nbformat": 4,
 "nbformat_minor": 5
}
