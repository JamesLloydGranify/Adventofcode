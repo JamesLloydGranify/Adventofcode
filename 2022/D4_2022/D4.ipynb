{
 "cells": [
  {
   "cell_type": "code",
   "execution_count": 1,
   "id": "d32c82d3-74a9-4290-a774-091dea2c8bc3",
   "metadata": {},
   "outputs": [],
   "source": [
    "import csv"
   ]
  },
  {
   "cell_type": "code",
   "execution_count": 4,
   "id": "eea5e436-fe60-423e-9e73-4d26a824f610",
   "metadata": {},
   "outputs": [
    {
     "name": "stdout",
     "output_type": "stream",
     "text": [
      "[['7-7', '8-42'], ['2-95', '2-94'], ['10-54', '33-90'], ['23-24', '24-40'], ['1-48', '12-47']]\n"
     ]
    }
   ],
   "source": [
    "with open('input.txt', newline='\\n') as csvfile:\n",
    "    data = []\n",
    "    reader = csv.reader(csvfile, delimiter=',')\n",
    "    for row in reader: \n",
    "        data.append(row)\n",
    "print(data[:5])"
   ]
  },
  {
   "cell_type": "code",
   "execution_count": 24,
   "id": "99c906c3-0dee-4972-a717-9a7c657b41d4",
   "metadata": {},
   "outputs": [],
   "source": [
    "elf_1 = []\n",
    "elf_2 = []\n",
    "for ls in data:\n",
    "    elf_1.append(ls[0].split('-'))\n",
    "    elf_2.append(ls[1].split('-'))\n",
    "elf_1 = [[int(x) for x in y] for y in elf_1]\n",
    "elf_2 = [[int(x) for x in y] for y in elf_2]"
   ]
  },
  {
   "cell_type": "code",
   "execution_count": 27,
   "id": "c345e822-6d8b-4d26-a318-467c6e246e3a",
   "metadata": {},
   "outputs": [
    {
     "name": "stdout",
     "output_type": "stream",
     "text": [
      "[['8', '42'], ['2', '94'], ['33', '90'], ['24', '40'], ['12', '47']]\n"
     ]
    }
   ],
   "source": [
    "print(elf_2[:5])"
   ]
  },
  {
   "cell_type": "code",
   "execution_count": 42,
   "id": "bec711d1-8fa3-4bb6-a63b-faacb66d2be0",
   "metadata": {},
   "outputs": [
    {
     "name": "stdout",
     "output_type": "stream",
     "text": [
      "433\n"
     ]
    }
   ],
   "source": [
    "counter=0\n",
    "for a, b in zip(elf_1, elf_2):\n",
    "    if a[0] <= b[0] and a[1]>=b[1]:\n",
    "        counter +=1\n",
    "    elif a[0] >= b[0] and a[1]<=b[1]:\n",
    "        counter +=1\n",
    "print(counter)\n",
    "\n"
   ]
  },
  {
   "cell_type": "code",
   "execution_count": null,
   "id": "3cdf251b-421e-4401-a834-121ecad67dea",
   "metadata": {},
   "outputs": [],
   "source": [
    "#Part 2"
   ]
  },
  {
   "cell_type": "code",
   "execution_count": 44,
   "id": "7b4065e8-4820-4af5-aab2-cf41fa810294",
   "metadata": {},
   "outputs": [
    {
     "name": "stdout",
     "output_type": "stream",
     "text": [
      "852\n"
     ]
    }
   ],
   "source": [
    "counter=0\n",
    "for a, b in zip(elf_1, elf_2):\n",
    "    if a[0] <= b[0] and a[1]>=b[0]:\n",
    "        counter +=1\n",
    "    elif a[0] <= b[1] and a[1]>=b[1]:\n",
    "        counter +=1\n",
    "    elif b[0] <= a[0] and b[1]>=a[0]:\n",
    "        counter +=1\n",
    "    elif b[0] <= a[1] and b[1]>=a[1]:\n",
    "        counter +=1    \n",
    "print(counter)"
   ]
  },
  {
   "cell_type": "code",
   "execution_count": null,
   "id": "2310c765-01cb-4b96-a468-cf22a55bd8ff",
   "metadata": {},
   "outputs": [],
   "source": []
  },
  {
   "cell_type": "code",
   "execution_count": null,
   "id": "a611580a-b2be-4a2d-931a-5db3eed6383e",
   "metadata": {},
   "outputs": [],
   "source": []
  },
  {
   "cell_type": "code",
   "execution_count": null,
   "id": "a2a865cf-fc0b-4cfa-8085-d28fa793c980",
   "metadata": {},
   "outputs": [],
   "source": []
  },
  {
   "cell_type": "code",
   "execution_count": null,
   "id": "2b0393ae-5fe5-4f79-a9c9-c8b05f72d679",
   "metadata": {},
   "outputs": [],
   "source": []
  }
 ],
 "metadata": {
  "kernelspec": {
   "display_name": "Python 3",
   "language": "python",
   "name": "python3"
  },
  "language_info": {
   "codemirror_mode": {
    "name": "ipython",
    "version": 3
   },
   "file_extension": ".py",
   "mimetype": "text/x-python",
   "name": "python",
   "nbconvert_exporter": "python",
   "pygments_lexer": "ipython3",
   "version": "3.8.8"
  }
 },
 "nbformat": 4,
 "nbformat_minor": 5
}
