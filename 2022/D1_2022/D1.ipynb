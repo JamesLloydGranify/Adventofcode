{
 "cells": [
  {
   "cell_type": "code",
   "execution_count": 75,
   "id": "f35b489c-faa3-4617-9445-9a0937d1c482",
   "metadata": {},
   "outputs": [],
   "source": [
    "import pandas as pd\n",
    "import numpy as np\n",
    "import csv\n",
    "import math"
   ]
  },
  {
   "cell_type": "code",
   "execution_count": 121,
   "id": "77bf6b3e-3772-4a74-a447-f9ebc6b38bff",
   "metadata": {
    "tags": []
   },
   "outputs": [],
   "source": [
    "df = pd.read_csv(\"input.txt\", header=None, skip_blank_lines=False)\n",
    "df2 = pd.read_csv(\"input.txt\", header=None, skip_blank_lines=False)"
   ]
  },
  {
   "cell_type": "code",
   "execution_count": null,
   "id": "cd318b47-aaf1-4211-8a95-21d8f5a6ac3b",
   "metadata": {},
   "outputs": [],
   "source": [
    "#precise answer"
   ]
  },
  {
   "cell_type": "code",
   "execution_count": 114,
   "id": "61b688c7-2968-4afc-92e4-93353f53f374",
   "metadata": {},
   "outputs": [
    {
     "name": "stdout",
     "output_type": "stream",
     "text": [
      "68923.0\n"
     ]
    }
   ],
   "source": [
    "Elf_totals = []\n",
    "counter = 0\n",
    "for row in df2[0]:\n",
    "    if np.isnan(row) == False:\n",
    "        counter += row\n",
    "    else: \n",
    "        Elf_totals.append(counter)   \n",
    "        counter = 0\n",
    "print(max(Elf_totals))"
   ]
  },
  {
   "cell_type": "code",
   "execution_count": 115,
   "id": "af5b0555-efec-4a6b-8dbb-17df675aa5a2",
   "metadata": {},
   "outputs": [
    {
     "data": {
      "text/plain": [
       "200044.0"
      ]
     },
     "execution_count": 115,
     "metadata": {},
     "output_type": "execute_result"
    }
   ],
   "source": [
    "theset=frozenset(Elf_totals)\n",
    "ans=sorted(theset)\n",
    "sum(ans[-3:])"
   ]
  },
  {
   "cell_type": "code",
   "execution_count": 105,
   "id": "35a1fda8-2d2e-4883-b8f1-078c6d8d80db",
   "metadata": {},
   "outputs": [],
   "source": [
    "#complete answer"
   ]
  },
  {
   "cell_type": "code",
   "execution_count": 124,
   "id": "9985568c-284e-49f2-b2a8-28cd27fdf0e7",
   "metadata": {},
   "outputs": [],
   "source": [
    "df_list = []\n",
    "for _, g in df.groupby(df.isnull().cumsum().values.ravel()):\n",
    "    df_list.append(g.dropna().reset_index(drop=True))\n",
    "\n",
    "df_full = pd.concat(df_list, axis=1, ignore_index=True)\n"
   ]
  },
  {
   "cell_type": "code",
   "execution_count": 133,
   "id": "684872b9-215d-4642-b834-c418bc8a446c",
   "metadata": {},
   "outputs": [
    {
     "data": {
      "text/plain": [
       "68923.0"
      ]
     },
     "execution_count": 133,
     "metadata": {},
     "output_type": "execute_result"
    }
   ],
   "source": [
    "df_full.sum().max()"
   ]
  },
  {
   "cell_type": "code",
   "execution_count": 141,
   "id": "f24f415d-2ce8-4fdb-96cb-480001967b51",
   "metadata": {},
   "outputs": [
    {
     "data": {
      "text/plain": [
       "200044.0"
      ]
     },
     "execution_count": 141,
     "metadata": {},
     "output_type": "execute_result"
    }
   ],
   "source": [
    "df_full.sum().sort_values()[-3:].sum()"
   ]
  }
 ],
 "metadata": {
  "kernelspec": {
   "display_name": "Python 3",
   "language": "python",
   "name": "python3"
  },
  "language_info": {
   "codemirror_mode": {
    "name": "ipython",
    "version": 3
   },
   "file_extension": ".py",
   "mimetype": "text/x-python",
   "name": "python",
   "nbconvert_exporter": "python",
   "pygments_lexer": "ipython3",
   "version": "3.8.8"
  }
 },
 "nbformat": 4,
 "nbformat_minor": 5
}
