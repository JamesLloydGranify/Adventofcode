{
 "cells": [
  {
   "cell_type": "code",
   "execution_count": 9,
   "id": "3938ccf0-d8ff-4d57-9630-50040cf724e8",
   "metadata": {},
   "outputs": [],
   "source": [
    "import csv"
   ]
  },
  {
   "cell_type": "code",
   "execution_count": 11,
   "id": "f0c482f2-fe07-4a17-8bea-83c514324391",
   "metadata": {},
   "outputs": [
    {
     "name": "stdout",
     "output_type": "stream",
     "text": [
      "['PcPlnShmrLmBnmcwBhrmcmbHNGFGpwdFFwGNjNbGqNHH', 'tzQfRJfWZZztWzVtCTfRzFZjpFjNZjGLHbdHLDdjpb', 'CCQTzRLzvQVVfRzJfMPsnBlglgPmBgPmvSrl', 'RMfvbbszHTsssFPzDQPggpQJPQ', 'NSNcqVtLVGgDlpQBClVB', 'hmStGNNLhjNrpWLGSjWrZssbZTMMvTfMnThbRRTs', 'fTrTPGTbfftWBBmLjrJL', 'DqHwVMqVplDslmlZmpHVwNnShWZFdBBdjWBtWtdtWJSSLS', 'MNslpDvVHlwsmpQRgQgCfTTcvcRQ', 'pBBhRgDsMsswprBhvgRglZtFGFFRqZtZmRtNqtZPPN']\n"
     ]
    }
   ],
   "source": [
    "results = []\n",
    "with open('input.txt', newline='') as inputfile:\n",
    "    for row in csv.reader(inputfile):\n",
    "        results.append(row[0])\n",
    "\n",
    "print(results[:10])"
   ]
  },
  {
   "cell_type": "code",
   "execution_count": 53,
   "id": "e3d99f6a-4c58-407a-af8a-1554ab6bf60b",
   "metadata": {},
   "outputs": [],
   "source": [
    "def compare(a,b):\n",
    "    s = \"\"\n",
    "    for x in a:\n",
    "        for y in b:\n",
    "            if x==y:\n",
    "                s+=x\n",
    "    return(set(s))"
   ]
  },
  {
   "cell_type": "code",
   "execution_count": 39,
   "id": "1879a719-5d94-4720-b76a-ca71164e8f81",
   "metadata": {},
   "outputs": [
    {
     "name": "stdout",
     "output_type": "stream",
     "text": [
      "[119, 90, 118, 122, 86, 104, 114, 90, 118, 82, 100, 67, 112, 110, 103, 86, 110, 87, 116, 114, 109, 82, 112, 104, 109, 74, 72, 109, 70, 115, 108, 81, 90, 66, 71, 109, 81, 104, 74, 83, 72, 103, 81, 112, 110, 80, 90, 76, 68, 86, 119, 86, 80, 116, 81, 108, 77, 66, 80, 82, 112, 80, 78, 106, 102, 87, 112, 108, 67, 80, 67, 81, 84, 110, 67, 118, 90, 122, 104, 119, 122, 84, 66, 118, 90, 119, 72, 87, 115, 83, 68, 67, 76, 86, 98, 80, 99, 100, 115, 83, 112, 86, 80, 71, 109, 98, 119, 80, 77, 104, 102, 78, 76, 80, 115, 104, 98, 102, 112, 68, 103, 122, 76, 103, 68, 98, 66, 112, 90, 71, 110, 119, 106, 102, 112, 98, 67, 108, 103, 84, 116, 78, 76, 66, 82, 78, 70, 102, 119, 82, 109, 67, 119, 68, 74, 116, 67, 82, 99, 99, 114, 67, 99, 114, 77, 108, 115, 119, 100, 71, 82, 99, 115, 87, 119, 71, 90, 114, 78, 82, 90, 81, 84, 82, 102, 87, 116, 98, 104, 113, 76, 81, 67, 66, 78, 78, 86, 104, 70, 84, 115, 67, 98, 122, 112, 119, 98, 67, 110, 78, 122, 103, 106, 71, 108, 109, 118, 70, 104, 119, 84, 106, 87, 100, 74, 77, 113, 115, 68, 113, 110, 108, 118, 122, 122, 100, 119, 99, 71, 119, 122, 66, 103, 68, 74, 109, 98, 106, 116, 81, 114, 83, 119, 86, 83, 74, 119, 68, 71, 114, 104, 71, 112, 83, 113, 116, 115, 67, 74, 98, 90, 68, 106, 82, 76, 98, 81, 80, 100, 81, 100, 110, 72, 99, 98, 103, 68, 82, 66, 114, 122, 80, 109, 67, 119, 108, 84, 108, 118, 72]\n"
     ]
    }
   ],
   "source": [
    "priority=[]\n",
    "for item in results:\n",
    "    half = int(len(item)/2)\n",
    "    comp_1 = item[:half]\n",
    "    comp_2 = item[half:]\n",
    "    prime = ord(compare(comp_1, comp_2))\n",
    "    priority.append(prime)\n",
    "print(priority)"
   ]
  },
  {
   "cell_type": "code",
   "execution_count": 43,
   "id": "89755d0e-28f3-49d9-a395-8cc53aff6936",
   "metadata": {},
   "outputs": [
    {
     "name": "stdout",
     "output_type": "stream",
     "text": [
      "7831\n"
     ]
    }
   ],
   "source": [
    "pri_nums=[]\n",
    "for entry in priority:\n",
    "    if entry > 96:\n",
    "        pri_nums.append(entry-96)\n",
    "    if entry < 91:\n",
    "        pri_nums.append(entry-64+26)\n",
    "print(sum(pri_nums))\n",
    "        "
   ]
  },
  {
   "cell_type": "code",
   "execution_count": 44,
   "id": "4c90465f-c678-43da-8d2a-407966346a54",
   "metadata": {},
   "outputs": [],
   "source": [
    "### Part 2"
   ]
  },
  {
   "cell_type": "code",
   "execution_count": 74,
   "id": "88d39552-ef61-4b99-bfb7-5e62184ce837",
   "metadata": {},
   "outputs": [],
   "source": [
    "teams = [results[x:x+3] for x in range(0, len(results),3)]"
   ]
  },
  {
   "cell_type": "code",
   "execution_count": 80,
   "id": "8d739b0e-3883-4a1b-9574-b50607f112aa",
   "metadata": {},
   "outputs": [],
   "source": [
    "def badges(a,b,c):\n",
    "    ab = compare(a,b)\n",
    "    badge = compare(ab, c)\n",
    "    return badge.pop()\n",
    "                    "
   ]
  },
  {
   "cell_type": "code",
   "execution_count": 88,
   "id": "5c4fd834-db19-49a5-9326-26768c47bacd",
   "metadata": {},
   "outputs": [
    {
     "name": "stdout",
     "output_type": "stream",
     "text": [
      "[76, 112, 109, 109, 68, 67, 66, 110, 80, 102, 113, 116, 110, 82, 99, 78, 81, 112, 78, 110, 110, 70, 83, 68, 114, 70, 90, 99, 104, 70, 81, 77, 82, 76, 99, 77, 82, 98, 87, 104, 99, 76, 113, 100, 100, 112, 87, 99, 108, 83, 90, 113, 102, 116, 108, 109, 90, 68, 76, 66, 119, 68, 102, 77, 84, 114, 82, 83, 76, 72, 82, 104, 100, 70, 66, 81, 84, 103, 84, 86, 99, 103, 119, 87, 122, 67, 84, 103, 72, 109, 72, 74, 71, 122, 82, 104, 115, 86, 109, 80]\n",
      "2683\n"
     ]
    }
   ],
   "source": [
    "badge_list = []\n",
    "for entry in teams:\n",
    "    badge_list.append(ord(badges(entry[0],entry[1],entry[2])))\n",
    "print(badge_list)\n",
    "badge_nums=[]\n",
    "for num in badge_list:\n",
    "    if num > 96:\n",
    "        badge_nums.append(num-96)\n",
    "    if num < 91:\n",
    "        badge_nums.append(num-64+26)\n",
    "print(sum(badge_nums))\n",
    "        "
   ]
  },
  {
   "cell_type": "code",
   "execution_count": null,
   "id": "d4012433-ea8b-48fd-93d9-e999c2b1ceab",
   "metadata": {},
   "outputs": [],
   "source": []
  },
  {
   "cell_type": "code",
   "execution_count": null,
   "id": "60591d4c-2e6c-40b1-9de4-aa74a77a26de",
   "metadata": {},
   "outputs": [],
   "source": []
  },
  {
   "cell_type": "code",
   "execution_count": null,
   "id": "dedb31bb-62bb-4995-83d2-c86b96b46885",
   "metadata": {},
   "outputs": [],
   "source": []
  },
  {
   "cell_type": "code",
   "execution_count": null,
   "id": "9e49a4eb-85ab-40b0-b47a-530554e9680c",
   "metadata": {},
   "outputs": [],
   "source": []
  }
 ],
 "metadata": {
  "kernelspec": {
   "display_name": "Python 3",
   "language": "python",
   "name": "python3"
  },
  "language_info": {
   "codemirror_mode": {
    "name": "ipython",
    "version": 3
   },
   "file_extension": ".py",
   "mimetype": "text/x-python",
   "name": "python",
   "nbconvert_exporter": "python",
   "pygments_lexer": "ipython3",
   "version": "3.8.8"
  }
 },
 "nbformat": 4,
 "nbformat_minor": 5
}
