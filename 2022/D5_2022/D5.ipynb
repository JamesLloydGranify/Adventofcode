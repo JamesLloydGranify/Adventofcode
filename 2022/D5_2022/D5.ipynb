{
 "cells": [
  {
   "cell_type": "code",
   "execution_count": 17,
   "id": "efde6cf0-a1b1-43ca-87ed-8627159ed388",
   "metadata": {},
   "outputs": [],
   "source": [
    "import csv"
   ]
  },
  {
   "cell_type": "code",
   "execution_count": 18,
   "id": "54abe11a-485b-4299-b86a-b69f747e3012",
   "metadata": {},
   "outputs": [
    {
     "name": "stdout",
     "output_type": "stream",
     "text": [
      "['move 3 from 9 to 4', 'move 2 from 5 to 2']\n"
     ]
    }
   ],
   "source": [
    "with open('input.txt', newline='\\n') as csvfile:\n",
    "    data = []\n",
    "    reader = csv.reader(csvfile, delimiter=',')\n",
    "    for row in reader: \n",
    "        if len(row) <1:\n",
    "            pass\n",
    "        else:\n",
    "            data.append(row[0])\n",
    "directions = data[9:]\n",
    "print(directions[0:2])"
   ]
  },
  {
   "cell_type": "code",
   "execution_count": 19,
   "id": "7e7e1924-fe94-46ef-8761-d199c8fc19ed",
   "metadata": {},
   "outputs": [
    {
     "name": "stdout",
     "output_type": "stream",
     "text": [
      "['move', '3', 'from', '9', 'to', '4']\n"
     ]
    }
   ],
   "source": [
    "print(directions[0].split())"
   ]
  },
  {
   "cell_type": "code",
   "execution_count": 20,
   "id": "a80ed8be-6938-49d3-8e7d-7b2a4c5c3b29",
   "metadata": {},
   "outputs": [
    {
     "name": "stdout",
     "output_type": "stream",
     "text": [
      "[[3, 9, 4], [2, 5, 2], [8, 1, 9], [4, 7, 1], [5, 3, 8]]\n"
     ]
    }
   ],
   "source": [
    "code = []\n",
    "for entry in directions:\n",
    "    action = []\n",
    "    action.append(int(entry.split()[1]))\n",
    "    action.append(int(entry.split()[3]))\n",
    "    action.append(int(entry.split()[5]))\n",
    "    code.append(action)\n",
    "print(code[:5])"
   ]
  },
  {
   "cell_type": "code",
   "execution_count": 5,
   "id": "41272e6c-51f4-42dc-b84a-d9dd6ace392c",
   "metadata": {},
   "outputs": [],
   "source": [
    "import numpy as np\n",
    "import pandas as pd"
   ]
  },
  {
   "cell_type": "code",
   "execution_count": 21,
   "id": "62453e0b-449f-4608-b5b0-022fd4c3cfba",
   "metadata": {},
   "outputs": [],
   "source": [
    "crates = data[0:9]"
   ]
  },
  {
   "cell_type": "code",
   "execution_count": 36,
   "id": "a83f5d45-44da-4c2b-9cac-455f25575ae9",
   "metadata": {},
   "outputs": [],
   "source": [
    "crates.reverse()"
   ]
  },
  {
   "cell_type": "code",
   "execution_count": 37,
   "id": "9b7edcd4-778c-43c0-a357-b82ac669123f",
   "metadata": {},
   "outputs": [],
   "source": [
    "transpose = [''.join(s) for s in zip(*crates)]"
   ]
  },
  {
   "cell_type": "code",
   "execution_count": 38,
   "id": "bdb97805-954a-4a70-8319-37ec7b313530",
   "metadata": {},
   "outputs": [
    {
     "name": "stdout",
     "output_type": "stream",
     "text": [
      "[' [[[[[[[[', '1FDBZTJRN', ' ]]]]]]]]', '         ', ' [[[[[   ', '2RSNJH   ', ' ]]]]]   ', '         ', ' [[[[[[[[', '3CRNJGZFQ', ' ]]]]]]]]', '         ', ' [[[[[[[ ', '4FVNGRTQ ', ' ]]]]]]] ', '         ', ' [[[[    ', '5LTQF    ', ' ]]]]    ', '         ', ' [[[[[[[[', '6QCWZBRGN', ' ]]]]]]]]', '         ', ' [[[[[[[ ', '7FCLSNHM ', ' ]]]]]]] ', '         ', ' [[[[[[  ', '8DNQMTJ  ', ' ]]]]]]  ', '         ', ' [[[     ', '9PGS     ', ' ]]]     ']\n"
     ]
    }
   ],
   "source": [
    "print(transpose)"
   ]
  },
  {
   "cell_type": "code",
   "execution_count": 119,
   "id": "3c125155-720e-4faa-b2d7-167620d78bdf",
   "metadata": {
    "tags": []
   },
   "outputs": [],
   "source": [
    "cargo = []\n",
    "for entry in transpose:\n",
    "    ls =[]\n",
    "    if entry[0] != ' ':\n",
    "        item = entry.strip()\n",
    "        for char in item[1:]:\n",
    "            ls.append(char)\n",
    "        cargo.append(ls)"
   ]
  },
  {
   "cell_type": "code",
   "execution_count": 109,
   "id": "5eee989b-abc3-44b7-b0ea-eee1ad828b9f",
   "metadata": {},
   "outputs": [
    {
     "name": "stdout",
     "output_type": "stream",
     "text": [
      "[['F', 'D', 'B', 'Z', 'T', 'J', 'R', 'N'], ['R', 'S', 'N', 'J', 'H'], ['C', 'R', 'N', 'J', 'G', 'Z', 'F', 'Q'], ['F', 'V', 'N', 'G', 'R', 'T', 'Q'], ['L', 'T', 'Q', 'F'], ['Q', 'C', 'W', 'Z', 'B', 'R', 'G', 'N'], ['F', 'C', 'L', 'S', 'N', 'H', 'M'], ['D', 'N', 'Q', 'M', 'T', 'J'], ['P', 'G', 'S']]\n"
     ]
    }
   ],
   "source": [
    "print(cargo)"
   ]
  },
  {
   "cell_type": "code",
   "execution_count": null,
   "id": "963cb11b-c3b0-4bf4-8d05-b4149c3d2b61",
   "metadata": {},
   "outputs": [],
   "source": [
    "# used while loop and pop to solve part 1."
   ]
  },
  {
   "cell_type": "code",
   "execution_count": 72,
   "id": "51a17c3d-b88b-414c-ac47-56a9665530b6",
   "metadata": {},
   "outputs": [
    {
     "data": {
      "text/plain": [
       "['move 3 from 9 to 4',\n",
       " 'move 2 from 5 to 2',\n",
       " 'move 8 from 1 to 9',\n",
       " 'move 4 from 7 to 1',\n",
       " 'move 5 from 3 to 8']"
      ]
     },
     "execution_count": 72,
     "metadata": {},
     "output_type": "execute_result"
    }
   ],
   "source": [
    "directions[:5]"
   ]
  },
  {
   "cell_type": "code",
   "execution_count": 126,
   "id": "ff12c91a-af34-4d53-a80e-f8e99ef73796",
   "metadata": {},
   "outputs": [
    {
     "name": "stdout",
     "output_type": "stream",
     "text": [
      "[['F', 'D', 'B', 'Z', 'T', 'J', 'R', 'N'], ['R', 'S', 'N', 'J', 'H'], ['C', 'R', 'N', 'J', 'G', 'Z', 'F', 'Q'], ['F', 'V', 'N', 'G', 'R', 'T', 'Q', 'P', 'G', 'S'], ['L', 'T', 'Q', 'F'], ['Q', 'C', 'W', 'Z', 'B', 'R', 'G', 'N'], ['F', 'C', 'L', 'S', 'N', 'H', 'M'], ['D', 'N', 'Q', 'M', 'T', 'J'], []]\n",
      "[['F', 'D', 'B', 'Z', 'T', 'J', 'R', 'N'], ['R', 'S', 'N', 'J', 'H', 'Q', 'F'], ['C', 'R', 'N', 'J', 'G', 'Z', 'F', 'Q'], ['F', 'V', 'N', 'G', 'R', 'T', 'Q', 'P', 'G', 'S'], ['L', 'T'], ['Q', 'C', 'W', 'Z', 'B', 'R', 'G', 'N'], ['F', 'C', 'L', 'S', 'N', 'H', 'M'], ['D', 'N', 'Q', 'M', 'T', 'J'], []]\n",
      "[[], ['R', 'S', 'N', 'J', 'H', 'Q', 'F'], ['C', 'R', 'N', 'J', 'G', 'Z', 'F', 'Q'], ['F', 'V', 'N', 'G', 'R', 'T', 'Q', 'P', 'G', 'S'], ['L', 'T'], ['Q', 'C', 'W', 'Z', 'B', 'R', 'G', 'N'], ['F', 'C', 'L', 'S', 'N', 'H', 'M'], ['D', 'N', 'Q', 'M', 'T', 'J'], ['F', 'D', 'B', 'Z', 'T', 'J', 'R', 'N']]\n",
      "[['S', 'N', 'H', 'M'], ['R', 'S', 'N', 'J', 'H', 'Q', 'F'], ['C', 'R', 'N', 'J', 'G', 'Z', 'F', 'Q'], ['F', 'V', 'N', 'G', 'R', 'T', 'Q', 'P', 'G', 'S'], ['L', 'T'], ['Q', 'C', 'W', 'Z', 'B', 'R', 'G', 'N'], ['F', 'C', 'L'], ['D', 'N', 'Q', 'M', 'T', 'J'], ['F', 'D', 'B', 'Z', 'T', 'J', 'R', 'N']]\n",
      "[['S', 'N', 'H', 'M'], ['R', 'S', 'N', 'J', 'H', 'Q', 'F'], ['C', 'R', 'N'], ['F', 'V', 'N', 'G', 'R', 'T', 'Q', 'P', 'G', 'S'], ['L', 'T'], ['Q', 'C', 'W', 'Z', 'B', 'R', 'G', 'N'], ['F', 'C', 'L'], ['D', 'N', 'Q', 'M', 'T', 'J', 'J', 'G', 'Z', 'F', 'Q'], ['F', 'D', 'B', 'Z', 'T', 'J', 'R', 'N']]\n",
      "[['S', 'N', 'H', 'M'], ['R', 'S', 'N', 'J', 'H', 'Q', 'F'], [], ['F', 'V', 'N', 'G', 'R', 'T', 'Q', 'P', 'G', 'S'], ['L', 'T'], ['Q', 'C', 'W', 'Z', 'B', 'R', 'G', 'N'], ['F', 'C', 'L', 'C', 'R', 'N'], ['D', 'N', 'Q', 'M', 'T', 'J', 'J', 'G', 'Z', 'F', 'Q'], ['F', 'D', 'B', 'Z', 'T', 'J', 'R', 'N']]\n"
     ]
    }
   ],
   "source": [
    "cargo = []\n",
    "for entry in transpose:\n",
    "    ls =[]\n",
    "    if entry[0] != ' ':\n",
    "        item = entry.strip()\n",
    "        for char in item[1:]:\n",
    "            ls.append(char)\n",
    "        cargo.append(ls)\n",
    "i = 0\n",
    "for actions in code:\n",
    "    cargo[actions[2]-1] = cargo[actions[2]-1]+cargo[actions[1]-1][-actions[0]:]\n",
    "#    print(cargo)\n",
    "    counter = 0\n",
    "    while counter < actions[0]:\n",
    "        counter +=1\n",
    "        cargo[actions[1]-1].pop()\n",
    "    print(cargo)\n",
    "    i+=1\n",
    "    if i > 5:\n",
    "        break"
   ]
  },
  {
   "cell_type": "code",
   "execution_count": 120,
   "id": "3a45cb70-1e55-4c3e-99f0-63773484bd07",
   "metadata": {},
   "outputs": [
    {
     "data": {
      "text/plain": [
       "['T', 'Q', 'F']"
      ]
     },
     "execution_count": 120,
     "metadata": {},
     "output_type": "execute_result"
    }
   ],
   "source": [
    "cargo[4][-3:]"
   ]
  },
  {
   "cell_type": "code",
   "execution_count": 121,
   "id": "b25a3ea8-e574-4cb1-af9c-b853dbb2f7aa",
   "metadata": {},
   "outputs": [
    {
     "data": {
      "text/plain": [
       "['L', 'T']"
      ]
     },
     "execution_count": 121,
     "metadata": {},
     "output_type": "execute_result"
    }
   ],
   "source": [
    "cargo[4][:2]"
   ]
  },
  {
   "cell_type": "code",
   "execution_count": null,
   "id": "07783272-cbf4-4739-ab72-f447367c11b1",
   "metadata": {},
   "outputs": [],
   "source": []
  },
  {
   "cell_type": "code",
   "execution_count": null,
   "id": "a459c24c-f41a-406c-a164-89af84863094",
   "metadata": {},
   "outputs": [],
   "source": []
  },
  {
   "cell_type": "raw",
   "id": "4397fffc-254f-4b86-bf57-dd2e6c797ba8",
   "metadata": {},
   "source": []
  }
 ],
 "metadata": {
  "kernelspec": {
   "display_name": "Python 3",
   "language": "python",
   "name": "python3"
  },
  "language_info": {
   "codemirror_mode": {
    "name": "ipython",
    "version": 3
   },
   "file_extension": ".py",
   "mimetype": "text/x-python",
   "name": "python",
   "nbconvert_exporter": "python",
   "pygments_lexer": "ipython3",
   "version": "3.8.8"
  }
 },
 "nbformat": 4,
 "nbformat_minor": 5
}
