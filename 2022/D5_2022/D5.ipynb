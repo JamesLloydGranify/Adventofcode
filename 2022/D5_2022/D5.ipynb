{
 "cells": [
  {
   "cell_type": "code",
   "execution_count": 2,
   "id": "efde6cf0-a1b1-43ca-87ed-8627159ed388",
   "metadata": {},
   "outputs": [],
   "source": [
    "import csv"
   ]
  },
  {
   "cell_type": "code",
   "execution_count": 20,
   "id": "54abe11a-485b-4299-b86a-b69f747e3012",
   "metadata": {},
   "outputs": [
    {
     "name": "stdout",
     "output_type": "stream",
     "text": [
      "['move 3 from 9 to 4', 'move 2 from 5 to 2']\n"
     ]
    }
   ],
   "source": [
    "with open('input.txt', newline='\\n') as csvfile:\n",
    "    data = []\n",
    "    reader = csv.reader(csvfile, delimiter=',')\n",
    "    for row in reader: \n",
    "        if len(row) <1:\n",
    "            pass\n",
    "        else:\n",
    "            data.append(row[0])\n",
    "directions = data[9:]\n",
    "print(directions[0:2])"
   ]
  },
  {
   "cell_type": "code",
   "execution_count": 21,
   "id": "7e7e1924-fe94-46ef-8761-d199c8fc19ed",
   "metadata": {},
   "outputs": [
    {
     "name": "stdout",
     "output_type": "stream",
     "text": [
      "['move', '3', 'from', '9', 'to', '4']\n"
     ]
    }
   ],
   "source": [
    "print(directions[0].split())"
   ]
  },
  {
   "cell_type": "code",
   "execution_count": 32,
   "id": "a80ed8be-6938-49d3-8e7d-7b2a4c5c3b29",
   "metadata": {},
   "outputs": [
    {
     "name": "stdout",
     "output_type": "stream",
     "text": [
      "[[3, 9, 4], [2, 5, 2], [8, 1, 9], [4, 7, 1], [5, 3, 8]]\n"
     ]
    }
   ],
   "source": [
    "code = []\n",
    "for entry in directions:\n",
    "    action = []\n",
    "    action.append(int(entry.split()[1]))\n",
    "    action.append(int(entry.split()[3]))\n",
    "    action.append(int(entry.split()[5]))\n",
    "    code.append(action)\n",
    "print(code[:5])"
   ]
  },
  {
   "cell_type": "code",
   "execution_count": 35,
   "id": "41272e6c-51f4-42dc-b84a-d9dd6ace392c",
   "metadata": {},
   "outputs": [],
   "source": [
    "import numpy as np\n",
    "import pandas as pd"
   ]
  },
  {
   "cell_type": "code",
   "execution_count": 66,
   "id": "62453e0b-449f-4608-b5b0-022fd4c3cfba",
   "metadata": {},
   "outputs": [],
   "source": [
    "crates = data[0:9:]"
   ]
  },
  {
   "cell_type": "code",
   "execution_count": 70,
   "id": "a83f5d45-44da-4c2b-9cac-455f25575ae9",
   "metadata": {},
   "outputs": [
    {
     "name": "stdout",
     "output_type": "stream",
     "text": [
      "None\n"
     ]
    }
   ],
   "source": [
    "print(crates.reverse())"
   ]
  },
  {
   "cell_type": "code",
   "execution_count": null,
   "id": "9b7edcd4-778c-43c0-a357-b82ac669123f",
   "metadata": {},
   "outputs": [],
   "source": []
  },
  {
   "cell_type": "code",
   "execution_count": null,
   "id": "3c125155-720e-4faa-b2d7-167620d78bdf",
   "metadata": {},
   "outputs": [],
   "source": []
  }
 ],
 "metadata": {
  "kernelspec": {
   "display_name": "Python 3",
   "language": "python",
   "name": "python3"
  },
  "language_info": {
   "codemirror_mode": {
    "name": "ipython",
    "version": 3
   },
   "file_extension": ".py",
   "mimetype": "text/x-python",
   "name": "python",
   "nbconvert_exporter": "python",
   "pygments_lexer": "ipython3",
   "version": "3.8.8"
  }
 },
 "nbformat": 4,
 "nbformat_minor": 5
}
