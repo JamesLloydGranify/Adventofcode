{
 "cells": [
  {
   "cell_type": "code",
   "execution_count": 2,
   "id": "efde6cf0-a1b1-43ca-87ed-8627159ed388",
   "metadata": {},
   "outputs": [],
   "source": [
    "import csv"
   ]
  },
  {
   "cell_type": "code",
   "execution_count": 20,
   "id": "54abe11a-485b-4299-b86a-b69f747e3012",
   "metadata": {},
   "outputs": [
    {
     "name": "stdout",
     "output_type": "stream",
     "text": [
      "['move 3 from 9 to 4', 'move 2 from 5 to 2']\n"
     ]
    }
   ],
   "source": [
    "with open('input.txt', newline='\\n') as csvfile:\n",
    "    data = []\n",
    "    reader = csv.reader(csvfile, delimiter=',')\n",
    "    for row in reader: \n",
    "        if len(row) <1:\n",
    "            pass\n",
    "        else:\n",
    "            data.append(row[0])\n",
    "directions = data[9:]\n",
    "print(directions[0:2])"
   ]
  },
  {
   "cell_type": "code",
   "execution_count": 21,
   "id": "7e7e1924-fe94-46ef-8761-d199c8fc19ed",
   "metadata": {},
   "outputs": [
    {
     "name": "stdout",
     "output_type": "stream",
     "text": [
      "['move', '3', 'from', '9', 'to', '4']\n"
     ]
    }
   ],
   "source": [
    "print(directions[0].split())"
   ]
  },
  {
   "cell_type": "code",
   "execution_count": 32,
   "id": "a80ed8be-6938-49d3-8e7d-7b2a4c5c3b29",
   "metadata": {},
   "outputs": [
    {
     "name": "stdout",
     "output_type": "stream",
     "text": [
      "[[3, 9, 4], [2, 5, 2], [8, 1, 9], [4, 7, 1], [5, 3, 8]]\n"
     ]
    }
   ],
   "source": [
    "code = []\n",
    "for entry in directions:\n",
    "    action = []\n",
    "    action.append(int(entry.split()[1]))\n",
    "    action.append(int(entry.split()[3]))\n",
    "    action.append(int(entry.split()[5]))\n",
    "    code.append(action)\n",
    "print(code[:5])"
   ]
  },
  {
   "cell_type": "code",
   "execution_count": 35,
   "id": "41272e6c-51f4-42dc-b84a-d9dd6ace392c",
   "metadata": {},
   "outputs": [],
   "source": [
    "import numpy as np\n",
    "import pandas as pd"
   ]
  },
  {
   "cell_type": "code",
   "execution_count": 71,
   "id": "62453e0b-449f-4608-b5b0-022fd4c3cfba",
   "metadata": {},
   "outputs": [],
   "source": [
    "crates = data[0:9]"
   ]
  },
  {
   "cell_type": "code",
   "execution_count": 74,
   "id": "a83f5d45-44da-4c2b-9cac-455f25575ae9",
   "metadata": {},
   "outputs": [
    {
     "data": {
      "text/plain": [
       "[' 1   2   3   4   5   6   7   8   9 ',\n",
       " '[F] [R] [C] [F] [L] [Q] [F] [D] [P]',\n",
       " '[D] [S] [R] [V] [T] [C] [C] [N] [G]',\n",
       " '[B] [N] [N] [N] [Q] [W] [L] [Q] [S]',\n",
       " '[Z] [J] [J] [G] [F] [Z] [S] [M]    ',\n",
       " '[T] [H] [G] [R]     [B] [N] [T]    ',\n",
       " '[J]     [Z] [T]     [R] [H] [J]    ',\n",
       " '[R]     [F] [Q]     [G] [M]        ',\n",
       " '[N]     [Q]         [N]            ']"
      ]
     },
     "execution_count": 74,
     "metadata": {},
     "output_type": "execute_result"
    }
   ],
   "source": [
    "crates"
   ]
  },
  {
   "cell_type": "code",
   "execution_count": 76,
   "id": "9b7edcd4-778c-43c0-a357-b82ac669123f",
   "metadata": {},
   "outputs": [],
   "source": [
    "transpose = [''.join(s) for s in zip(*crates)]"
   ]
  },
  {
   "cell_type": "code",
   "execution_count": 103,
   "id": "3c125155-720e-4faa-b2d7-167620d78bdf",
   "metadata": {},
   "outputs": [],
   "source": [
    "cargo = []\n",
    "for entry in transpose:\n",
    "    ls =[]\n",
    "    if entry[0] != ' ':\n",
    "        item = entry.strip()\n",
    "        for char in item[1:]:\n",
    "            ls.append(char)\n",
    "        cargo.append(ls)"
   ]
  },
  {
   "cell_type": "code",
   "execution_count": 130,
   "id": "ff12c91a-af34-4d53-a80e-f8e99ef73796",
   "metadata": {},
   "outputs": [
    {
     "name": "stdout",
     "output_type": "stream",
     "text": [
      "['P', 'G', 'S']\n",
      "[['F', 'D', 'B', 'Z', 'T', 'J', 'R', 'N'], ['R', 'S', 'N', 'J', 'H'], ['C', 'R', 'N', 'J', 'G', 'Z', 'F', 'Q'], ['F', 'V', 'N', 'G', 'R', 'T', 'Q', ['P', 'G', 'S']], ['L', 'T', 'Q', 'F'], ['Q', 'C', 'W', 'Z', 'B', 'R', 'G', 'N'], ['F', 'C', 'L', 'S', 'N', 'H', 'M'], ['D', 'N', 'Q', 'M', 'T', 'J'], []]\n"
     ]
    }
   ],
   "source": [
    "cargo = []\n",
    "for entry in transpose:\n",
    "    ls =[]\n",
    "    if entry[0] != ' ':\n",
    "        item = entry.strip()\n",
    "        for char in item[1:]:\n",
    "            ls.append(char)\n",
    "        cargo.append(ls)\n",
    "\n",
    "for actions in code:\n",
    "    print(cargo[actions[1]-1][:actions[0]])\n",
    "    cargo[actions[2]-1].append(cargo[actions[1]-1][:actions[0]])\n",
    "    cargo[actions[1]-1] = cargo[actions[1]-1][actions[0]:]\n",
    "    print(cargo)\n",
    "    break"
   ]
  },
  {
   "cell_type": "code",
   "execution_count": 128,
   "id": "3a45cb70-1e55-4c3e-99f0-63773484bd07",
   "metadata": {},
   "outputs": [
    {
     "name": "stdout",
     "output_type": "stream",
     "text": [
      "[[[[]], [[[], [[[]], [[[[[[[], [], []], [[[]]], [[]], []]]], [[[[]]], [[[[], [[[], [[]]], []], [[[[], [[[]], [], [[]]], [[], [[]]], []], [[[[[[], [[[[]]]], [[[[[[[]], [[[[]]]]]]]], [[[[[[[[[[[], [[[[[[], [[[[]], []], []]]], []]], [[]], [[], [], []], [[[]], []], []]]]], [], [], [[[[[], [[[[[[], [], []]]]]], [], [[[]]]]], [[[[[[], [[[[[], [], [], [[[[[[[[]], [[[[], [[[[]]]]]]]]], [[[[[[[[[[[[[[[[[], [[], [[]]], [[[[], [], [[[], [[]]], [[[[[]]]]], [[], []]], [[[[[[[[]], []], [[]], [[]], [], [[[[[], [[[[], [[]]], [[]], []]], [], [[[[['Q']]], [[[[['C']]]], [['W', 'Z', 'B', 'R', 'G', 'N', [['D', 'N', 'Q', 'M', 'T', 'J', ['C', 'R', 'N', 'J', 'G']]], [['F', 'C', 'L', 'S']], []], []]], [[]], [[[[[['N', 'H', 'M', ['Z', 'F', 'Q']], [[['Q', 'F'], ['F', 'V', 'N', 'G', 'R', 'T', 'Q', ['P', 'G', 'S'], ['R', 'S', 'N', 'J', 'H', ['L', 'T']], [['F', 'D', 'B', 'Z', 'T', 'J', 'R', 'N']]], [[]]]]]]], [[[]]]]]]], [[[[[]]]]]]]], []], [[[]], [[]]]], []], [[[]], [[[[]]]], [[[[[[]]]]]]], [[]], [[], [[[[[[]]]]]], []]], [], [[[[]]]], [[[], [[[[[[]]]]]]]], []]]]], [[[[[]]], []], []]], []]]], []]]]]]], [[[[[[[[], [[], [], [], []]]]], [[[[]], [], [[], [[]], []]], [[[]]]], [[]], [], []], [], [[]]]]]], [[]]], []], [[[], [[[[]]], []], [], []]], [[]], [[], [[]]], []], []]]]]]], [[[]]]], [], []]], []]], [[[[[]], []]]], [[[]]], [], []]]]]]], []], []], [], []]], [[[[]], [[[[], [], [[[], [[]], [[]]]], [], []]]], [[]]]], [[[]], [[]], []], [[]]], [], [[]]]]]]]], [[]], [[[[[]]], []]]]]], [], [], []], [], []]], [[[], [[[[[[], [[[]]]]], [[[]]]]], [], []]], []], []]]]]], [[[[[[[[]]]]]]], [[], []]], []]]], []], [[[[[[[[]]]], []], [[]]]]], [], [], [], [], [], [], [[[[[[], [], [], []]], [], [[[[[]], [[]]]]]]]]]\n"
     ]
    }
   ],
   "source": [
    "print(cargo)"
   ]
  },
  {
   "cell_type": "code",
   "execution_count": null,
   "id": "b25a3ea8-e574-4cb1-af9c-b853dbb2f7aa",
   "metadata": {},
   "outputs": [],
   "source": []
  },
  {
   "cell_type": "code",
   "execution_count": null,
   "id": "fd9f5632-a61d-478f-b3c6-55103bec4456",
   "metadata": {},
   "outputs": [],
   "source": []
  }
 ],
 "metadata": {
  "kernelspec": {
   "display_name": "Python 3",
   "language": "python",
   "name": "python3"
  },
  "language_info": {
   "codemirror_mode": {
    "name": "ipython",
    "version": 3
   },
   "file_extension": ".py",
   "mimetype": "text/x-python",
   "name": "python",
   "nbconvert_exporter": "python",
   "pygments_lexer": "ipython3",
   "version": "3.8.8"
  }
 },
 "nbformat": 4,
 "nbformat_minor": 5
}
