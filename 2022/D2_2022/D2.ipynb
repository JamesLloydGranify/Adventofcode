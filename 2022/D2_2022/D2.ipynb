{
 "cells": [
  {
   "cell_type": "code",
   "execution_count": 1,
   "id": "0a780f59-2f39-49ff-a2d5-74668a9eb6f3",
   "metadata": {},
   "outputs": [],
   "source": [
    "import pandas as pd\n",
    "import numpy as np"
   ]
  },
  {
   "cell_type": "code",
   "execution_count": 2,
   "id": "ea5aeb04-855c-4827-94a8-0e409d2d11d5",
   "metadata": {},
   "outputs": [],
   "source": [
    "df = pd.read_csv('input.txt',header=None, sep = ' ', names=['Opp', 'Action'])"
   ]
  },
  {
   "cell_type": "code",
   "execution_count": 3,
   "id": "9302ef6e-d775-4bc3-bab6-55b94abc8c98",
   "metadata": {},
   "outputs": [],
   "source": [
    "df['Action_Pts']=df['Action'].where(df['Action']!='X', 1).where(df['Action']!='Y', 2).where(df['Action']!='Z', 3)"
   ]
  },
  {
   "cell_type": "code",
   "execution_count": 4,
   "id": "e4517555-5cad-40fa-aa3d-0562dd0ab4f7",
   "metadata": {},
   "outputs": [],
   "source": [
    "df['Win'] = 0"
   ]
  },
  {
   "cell_type": "code",
   "execution_count": 5,
   "id": "dbdb3f0a-0f75-4426-8f38-6e68a3c592fc",
   "metadata": {},
   "outputs": [
    {
     "name": "stderr",
     "output_type": "stream",
     "text": [
      "C:\\Users\\JamesLloyd\\anaconda3\\lib\\site-packages\\pandas\\core\\indexing.py:1637: SettingWithCopyWarning: \n",
      "A value is trying to be set on a copy of a slice from a DataFrame\n",
      "\n",
      "See the caveats in the documentation: https://pandas.pydata.org/pandas-docs/stable/user_guide/indexing.html#returning-a-view-versus-a-copy\n",
      "  self._setitem_single_block(indexer, value, name)\n"
     ]
    }
   ],
   "source": [
    "df['Win'].loc[(df['Opp'] == 'B') & (df['Action'] == 'Z')]=6\n",
    "df['Win'].loc[(df['Opp'] == 'C') & (df['Action'] == 'X')]=6\n",
    "df['Win'].loc[(df['Opp'] == 'A') & (df['Action'] == 'Y')]=6\n",
    "#.where(df[['Opp','Action']] != ['B', 'Y'], 6)\n",
    "#.where(df[['Action','Opp']] != ['Z', 'A'], 6)"
   ]
  },
  {
   "cell_type": "code",
   "execution_count": 8,
   "id": "820c0e15-a6c1-4f03-9726-fb7a647ebe22",
   "metadata": {},
   "outputs": [
    {
     "name": "stderr",
     "output_type": "stream",
     "text": [
      "C:\\Users\\JamesLloyd\\anaconda3\\lib\\site-packages\\pandas\\core\\indexing.py:1637: SettingWithCopyWarning: \n",
      "A value is trying to be set on a copy of a slice from a DataFrame\n",
      "\n",
      "See the caveats in the documentation: https://pandas.pydata.org/pandas-docs/stable/user_guide/indexing.html#returning-a-view-versus-a-copy\n",
      "  self._setitem_single_block(indexer, value, name)\n"
     ]
    }
   ],
   "source": [
    "df['Tie'] = 0\n",
    "df['Tie'].loc[(df['Opp'] == 'B') & (df['Action'] == 'Y')]=3\n",
    "df['Tie'].loc[(df['Opp'] == 'C') & (df['Action'] == 'Z')]=3\n",
    "df['Tie'].loc[(df['Opp'] == 'A') & (df['Action'] == 'X')]=3"
   ]
  },
  {
   "cell_type": "code",
   "execution_count": null,
   "id": "6d6dbc00-6c77-4993-9e31-029d96691cbe",
   "metadata": {},
   "outputs": [],
   "source": []
  },
  {
   "cell_type": "code",
   "execution_count": 9,
   "id": "42772fe9-edb3-44eb-bdec-afaa1a53a6d7",
   "metadata": {},
   "outputs": [
    {
     "data": {
      "text/html": [
       "<div>\n",
       "<style scoped>\n",
       "    .dataframe tbody tr th:only-of-type {\n",
       "        vertical-align: middle;\n",
       "    }\n",
       "\n",
       "    .dataframe tbody tr th {\n",
       "        vertical-align: top;\n",
       "    }\n",
       "\n",
       "    .dataframe thead th {\n",
       "        text-align: right;\n",
       "    }\n",
       "</style>\n",
       "<table border=\"1\" class=\"dataframe\">\n",
       "  <thead>\n",
       "    <tr style=\"text-align: right;\">\n",
       "      <th></th>\n",
       "      <th>Opp</th>\n",
       "      <th>Action</th>\n",
       "      <th>Action_Pts</th>\n",
       "      <th>Win</th>\n",
       "      <th>Tie</th>\n",
       "    </tr>\n",
       "  </thead>\n",
       "  <tbody>\n",
       "    <tr>\n",
       "      <th>0</th>\n",
       "      <td>B</td>\n",
       "      <td>X</td>\n",
       "      <td>1</td>\n",
       "      <td>0</td>\n",
       "      <td>0</td>\n",
       "    </tr>\n",
       "    <tr>\n",
       "      <th>1</th>\n",
       "      <td>B</td>\n",
       "      <td>Y</td>\n",
       "      <td>2</td>\n",
       "      <td>0</td>\n",
       "      <td>3</td>\n",
       "    </tr>\n",
       "    <tr>\n",
       "      <th>2</th>\n",
       "      <td>A</td>\n",
       "      <td>Y</td>\n",
       "      <td>2</td>\n",
       "      <td>6</td>\n",
       "      <td>0</td>\n",
       "    </tr>\n",
       "    <tr>\n",
       "      <th>3</th>\n",
       "      <td>B</td>\n",
       "      <td>Y</td>\n",
       "      <td>2</td>\n",
       "      <td>0</td>\n",
       "      <td>3</td>\n",
       "    </tr>\n",
       "    <tr>\n",
       "      <th>4</th>\n",
       "      <td>B</td>\n",
       "      <td>Y</td>\n",
       "      <td>2</td>\n",
       "      <td>0</td>\n",
       "      <td>3</td>\n",
       "    </tr>\n",
       "    <tr>\n",
       "      <th>5</th>\n",
       "      <td>A</td>\n",
       "      <td>Y</td>\n",
       "      <td>2</td>\n",
       "      <td>6</td>\n",
       "      <td>0</td>\n",
       "    </tr>\n",
       "    <tr>\n",
       "      <th>6</th>\n",
       "      <td>A</td>\n",
       "      <td>X</td>\n",
       "      <td>1</td>\n",
       "      <td>0</td>\n",
       "      <td>3</td>\n",
       "    </tr>\n",
       "    <tr>\n",
       "      <th>7</th>\n",
       "      <td>A</td>\n",
       "      <td>Y</td>\n",
       "      <td>2</td>\n",
       "      <td>6</td>\n",
       "      <td>0</td>\n",
       "    </tr>\n",
       "    <tr>\n",
       "      <th>8</th>\n",
       "      <td>C</td>\n",
       "      <td>X</td>\n",
       "      <td>1</td>\n",
       "      <td>6</td>\n",
       "      <td>0</td>\n",
       "    </tr>\n",
       "    <tr>\n",
       "      <th>9</th>\n",
       "      <td>A</td>\n",
       "      <td>Y</td>\n",
       "      <td>2</td>\n",
       "      <td>6</td>\n",
       "      <td>0</td>\n",
       "    </tr>\n",
       "    <tr>\n",
       "      <th>10</th>\n",
       "      <td>A</td>\n",
       "      <td>Y</td>\n",
       "      <td>2</td>\n",
       "      <td>6</td>\n",
       "      <td>0</td>\n",
       "    </tr>\n",
       "    <tr>\n",
       "      <th>11</th>\n",
       "      <td>B</td>\n",
       "      <td>Y</td>\n",
       "      <td>2</td>\n",
       "      <td>0</td>\n",
       "      <td>3</td>\n",
       "    </tr>\n",
       "    <tr>\n",
       "      <th>12</th>\n",
       "      <td>B</td>\n",
       "      <td>Z</td>\n",
       "      <td>3</td>\n",
       "      <td>6</td>\n",
       "      <td>0</td>\n",
       "    </tr>\n",
       "    <tr>\n",
       "      <th>13</th>\n",
       "      <td>A</td>\n",
       "      <td>Y</td>\n",
       "      <td>2</td>\n",
       "      <td>6</td>\n",
       "      <td>0</td>\n",
       "    </tr>\n",
       "    <tr>\n",
       "      <th>14</th>\n",
       "      <td>B</td>\n",
       "      <td>Z</td>\n",
       "      <td>3</td>\n",
       "      <td>6</td>\n",
       "      <td>0</td>\n",
       "    </tr>\n",
       "  </tbody>\n",
       "</table>\n",
       "</div>"
      ],
      "text/plain": [
       "   Opp Action Action_Pts  Win  Tie\n",
       "0    B      X          1    0    0\n",
       "1    B      Y          2    0    3\n",
       "2    A      Y          2    6    0\n",
       "3    B      Y          2    0    3\n",
       "4    B      Y          2    0    3\n",
       "5    A      Y          2    6    0\n",
       "6    A      X          1    0    3\n",
       "7    A      Y          2    6    0\n",
       "8    C      X          1    6    0\n",
       "9    A      Y          2    6    0\n",
       "10   A      Y          2    6    0\n",
       "11   B      Y          2    0    3\n",
       "12   B      Z          3    6    0\n",
       "13   A      Y          2    6    0\n",
       "14   B      Z          3    6    0"
      ]
     },
     "execution_count": 9,
     "metadata": {},
     "output_type": "execute_result"
    }
   ],
   "source": [
    "df.head(15)"
   ]
  },
  {
   "cell_type": "code",
   "execution_count": 15,
   "id": "0cca3680-7622-455f-8284-32d01243aa60",
   "metadata": {},
   "outputs": [
    {
     "data": {
      "text/plain": [
       "Action_Pts    5182\n",
       "Win           7920\n",
       "Tie           2589\n",
       "dtype: object"
      ]
     },
     "execution_count": 15,
     "metadata": {},
     "output_type": "execute_result"
    }
   ],
   "source": [
    "df[['Action_Pts', 'Win', 'Tie']].sum()"
   ]
  },
  {
   "cell_type": "code",
   "execution_count": 19,
   "id": "aad94879-85ff-4e05-9a97-77893cff84cd",
   "metadata": {},
   "outputs": [
    {
     "name": "stdout",
     "output_type": "stream",
     "text": [
      "15691\n"
     ]
    }
   ],
   "source": [
    "a=5182+7920+2589\n",
    "print(a)"
   ]
  },
  {
   "cell_type": "code",
   "execution_count": null,
   "id": "40a38480-28dc-42ec-9ff2-d9ba69c65821",
   "metadata": {},
   "outputs": [],
   "source": []
  },
  {
   "cell_type": "code",
   "execution_count": 21,
   "id": "c16263bb-bdef-4ca9-b840-54d4964e9e59",
   "metadata": {},
   "outputs": [],
   "source": [
    "#Part B"
   ]
  },
  {
   "cell_type": "code",
   "execution_count": 23,
   "id": "42e00c62-b63b-4353-9564-d801348d3b19",
   "metadata": {},
   "outputs": [],
   "source": [
    "df2 = df[['Opp', 'Action']]"
   ]
  },
  {
   "cell_type": "code",
   "execution_count": 25,
   "id": "b8cb69e8-440a-4fab-9793-625499889e05",
   "metadata": {},
   "outputs": [
    {
     "name": "stderr",
     "output_type": "stream",
     "text": [
      "<ipython-input-25-edef2d5a84b1>:1: SettingWithCopyWarning: \n",
      "A value is trying to be set on a copy of a slice from a DataFrame.\n",
      "Try using .loc[row_indexer,col_indexer] = value instead\n",
      "\n",
      "See the caveats in the documentation: https://pandas.pydata.org/pandas-docs/stable/user_guide/indexing.html#returning-a-view-versus-a-copy\n",
      "  df2['Outcome'] = df['Action']\n"
     ]
    }
   ],
   "source": [
    "df2['Outcome'] = df['Action']"
   ]
  },
  {
   "cell_type": "code",
   "execution_count": 42,
   "id": "9d8511f3-e875-434a-8f90-f1b81a591c00",
   "metadata": {},
   "outputs": [
    {
     "data": {
      "text/plain": [
       "4943"
      ]
     },
     "execution_count": 42,
     "metadata": {},
     "output_type": "execute_result"
    }
   ],
   "source": [
    "df2['Action'].sum()"
   ]
  },
  {
   "cell_type": "code",
   "execution_count": 40,
   "id": "1765b43e-4f7d-43cd-a971-2d4df3f6cbcf",
   "metadata": {},
   "outputs": [
    {
     "name": "stderr",
     "output_type": "stream",
     "text": [
      "<ipython-input-40-75454eec4907>:1: SettingWithCopyWarning: \n",
      "A value is trying to be set on a copy of a slice from a DataFrame.\n",
      "Try using .loc[row_indexer,col_indexer] = value instead\n",
      "\n",
      "See the caveats in the documentation: https://pandas.pydata.org/pandas-docs/stable/user_guide/indexing.html#returning-a-view-versus-a-copy\n",
      "  df2['Action'] = 0\n",
      "C:\\Users\\JamesLloyd\\anaconda3\\lib\\site-packages\\pandas\\core\\indexing.py:1637: SettingWithCopyWarning: \n",
      "A value is trying to be set on a copy of a slice from a DataFrame\n",
      "\n",
      "See the caveats in the documentation: https://pandas.pydata.org/pandas-docs/stable/user_guide/indexing.html#returning-a-view-versus-a-copy\n",
      "  self._setitem_single_block(indexer, value, name)\n",
      "C:\\Users\\JamesLloyd\\anaconda3\\lib\\site-packages\\pandas\\core\\indexing.py:692: SettingWithCopyWarning: \n",
      "A value is trying to be set on a copy of a slice from a DataFrame\n",
      "\n",
      "See the caveats in the documentation: https://pandas.pydata.org/pandas-docs/stable/user_guide/indexing.html#returning-a-view-versus-a-copy\n",
      "  iloc._setitem_with_indexer(indexer, value, self.name)\n"
     ]
    }
   ],
   "source": [
    "df2['Action'] = 0\n",
    "df2['Action'].loc[(df2['Opp'] == 'A') & (df2['Outcome'] == 'Y')]=1\n",
    "df2['Action'].loc[(df2['Opp'] == 'B') & (df2['Outcome'] == 'Y')]=2\n",
    "df2['Action'].loc[(df2['Opp'] == 'C') & (df2['Outcome'] == 'Y')]=3\n",
    "df2['Action'].loc[(df2['Opp'] == 'A') & (df2['Outcome'] == 'Z')]=2\n",
    "df2['Action'].loc[(df2['Opp'] == 'B') & (df2['Outcome'] == 'Z')]=3\n",
    "df2['Action'].loc[(df2['Opp'] == 'C') & (df2['Outcome'] == 'Z')]=1\n",
    "df2['Action'].loc[(df2['Opp'] == 'A') & (df2['Outcome'] == 'X')]=3\n",
    "df2['Action'].loc[(df2['Opp'] == 'B') & (df2['Outcome'] == 'X')]=1\n",
    "df2['Action'].loc[(df2['Opp'] == 'C') & (df2['Outcome'] == 'X')]=2\n"
   ]
  },
  {
   "cell_type": "code",
   "execution_count": 36,
   "id": "396c4b19-974b-4782-b040-a27620afb813",
   "metadata": {},
   "outputs": [],
   "source": [
    "outcomes = df2['Outcome'].tolist()"
   ]
  },
  {
   "cell_type": "code",
   "execution_count": 38,
   "id": "cea3ee2a-5781-41a6-8a01-a1e51b225db8",
   "metadata": {},
   "outputs": [
    {
     "name": "stdout",
     "output_type": "stream",
     "text": [
      "8046\n"
     ]
    }
   ],
   "source": [
    "counter = 0\n",
    "for i in outcomes:\n",
    "    if i == 'X':\n",
    "        counter += 0\n",
    "    elif i == 'Y':\n",
    "        counter += 3\n",
    "    elif i == 'Z':\n",
    "        counter += 6\n",
    "        \n",
    "print(counter)"
   ]
  },
  {
   "cell_type": "code",
   "execution_count": 43,
   "id": "7f6b13af-663b-485c-a1c2-9f23c2fcded3",
   "metadata": {},
   "outputs": [
    {
     "name": "stdout",
     "output_type": "stream",
     "text": [
      "12989\n"
     ]
    }
   ],
   "source": [
    "b = 8046+4943\n",
    "print(b)"
   ]
  }
 ],
 "metadata": {
  "kernelspec": {
   "display_name": "Python 3",
   "language": "python",
   "name": "python3"
  },
  "language_info": {
   "codemirror_mode": {
    "name": "ipython",
    "version": 3
   },
   "file_extension": ".py",
   "mimetype": "text/x-python",
   "name": "python",
   "nbconvert_exporter": "python",
   "pygments_lexer": "ipython3",
   "version": "3.8.8"
  }
 },
 "nbformat": 4,
 "nbformat_minor": 5
}
